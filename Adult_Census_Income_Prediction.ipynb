{
  "nbformat": 4,
  "nbformat_minor": 0,
  "metadata": {
    "colab": {
      "name": "Adult_Census_Income_Prediction.ipynb",
      "provenance": [],
      "collapsed_sections": []
    },
    "kernelspec": {
      "name": "python3",
      "display_name": "Python 3"
    },
    "language_info": {
      "name": "python"
    }
  },
  "cells": [
    {
      "cell_type": "code",
      "metadata": {
        "colab": {
          "base_uri": "https://localhost:8080/"
        },
        "id": "MfGU7TLw8UWB",
        "outputId": "3e326232-797a-4dfc-da97-8303bb598533"
      },
      "source": [
        "# Connecting csv file \n",
        "! git clone 'https://github.com/sathappanPR/Adult_Census_Income_Prediction'"
      ],
      "execution_count": 1,
      "outputs": [
        {
          "output_type": "stream",
          "name": "stdout",
          "text": [
            "fatal: destination path 'Adult_Census_Income_Prediction' already exists and is not an empty directory.\n"
          ]
        }
      ]
    },
    {
      "cell_type": "code",
      "metadata": {
        "id": "Mi-777HT8Y0G",
        "colab": {
          "base_uri": "https://localhost:8080/"
        },
        "outputId": "03cff440-9151-4ee2-d0dc-0a894c5c08eb"
      },
      "source": [
        "# Importing librarys\n",
        "import pandas as pd     \n",
        "import numpy as np\n",
        "import seaborn as sns\n",
        "import matplotlib.pyplot as plt\n",
        "%matplotlib inline\n",
        "from sklearn.preprocessing import LabelEncoder\n",
        "from sklearn.linear_model import LogisticRegression\n",
        "from sklearn.tree import DecisionTreeClassifier\n",
        "import math\n",
        "from sklearn.ensemble import RandomForestClassifier\n",
        "from xgboost import XGBClassifier\n",
        "from sklearn.neighbors import KNeighborsClassifier\n",
        "from sklearn.naive_bayes import GaussianNB\n",
        "from sklearn.model_selection import RandomizedSearchCV\n",
        "from sklearn.metrics import accuracy_score\n",
        "from sklearn.model_selection import train_test_split\n",
        "from sklearn.metrics import confusion_matrix\n",
        "from imblearn.over_sampling import SMOTE\n",
        "import pickle"
      ],
      "execution_count": 2,
      "outputs": [
        {
          "output_type": "stream",
          "name": "stderr",
          "text": [
            "/usr/local/lib/python3.7/dist-packages/sklearn/externals/six.py:31: FutureWarning: The module is deprecated in version 0.21 and will be removed in version 0.23 since we've dropped support for Python 2.7. Please rely on the official version of six (https://pypi.org/project/six/).\n",
            "  \"(https://pypi.org/project/six/).\", FutureWarning)\n",
            "/usr/local/lib/python3.7/dist-packages/sklearn/utils/deprecation.py:144: FutureWarning: The sklearn.neighbors.base module is  deprecated in version 0.22 and will be removed in version 0.24. The corresponding classes / functions should instead be imported from sklearn.neighbors. Anything that cannot be imported from sklearn.neighbors is now part of the private API.\n",
            "  warnings.warn(message, FutureWarning)\n"
          ]
        }
      ]
    },
    {
      "cell_type": "code",
      "metadata": {
        "colab": {
          "base_uri": "https://localhost:8080/",
          "height": 203
        },
        "id": "WpcawNsZ8adG",
        "outputId": "768dbdff-2362-4bac-95b7-f744f2a81754"
      },
      "source": [
        "adult = pd.read_csv('/content/Adult_Census_Income_Prediction/adult.csv')\n",
        "adult.head()"
      ],
      "execution_count": 3,
      "outputs": [
        {
          "output_type": "execute_result",
          "data": {
            "text/html": [
              "<div>\n",
              "<style scoped>\n",
              "    .dataframe tbody tr th:only-of-type {\n",
              "        vertical-align: middle;\n",
              "    }\n",
              "\n",
              "    .dataframe tbody tr th {\n",
              "        vertical-align: top;\n",
              "    }\n",
              "\n",
              "    .dataframe thead th {\n",
              "        text-align: right;\n",
              "    }\n",
              "</style>\n",
              "<table border=\"1\" class=\"dataframe\">\n",
              "  <thead>\n",
              "    <tr style=\"text-align: right;\">\n",
              "      <th></th>\n",
              "      <th>age</th>\n",
              "      <th>workclass</th>\n",
              "      <th>fnlwgt</th>\n",
              "      <th>education</th>\n",
              "      <th>education-num</th>\n",
              "      <th>marital-status</th>\n",
              "      <th>occupation</th>\n",
              "      <th>relationship</th>\n",
              "      <th>race</th>\n",
              "      <th>sex</th>\n",
              "      <th>capital-gain</th>\n",
              "      <th>capital-loss</th>\n",
              "      <th>hours-per-week</th>\n",
              "      <th>country</th>\n",
              "      <th>salary</th>\n",
              "    </tr>\n",
              "  </thead>\n",
              "  <tbody>\n",
              "    <tr>\n",
              "      <th>0</th>\n",
              "      <td>39</td>\n",
              "      <td>State-gov</td>\n",
              "      <td>77516</td>\n",
              "      <td>Bachelors</td>\n",
              "      <td>13</td>\n",
              "      <td>Never-married</td>\n",
              "      <td>Adm-clerical</td>\n",
              "      <td>Not-in-family</td>\n",
              "      <td>White</td>\n",
              "      <td>Male</td>\n",
              "      <td>2174</td>\n",
              "      <td>0</td>\n",
              "      <td>40</td>\n",
              "      <td>United-States</td>\n",
              "      <td>&lt;=50K</td>\n",
              "    </tr>\n",
              "    <tr>\n",
              "      <th>1</th>\n",
              "      <td>50</td>\n",
              "      <td>Self-emp-not-inc</td>\n",
              "      <td>83311</td>\n",
              "      <td>Bachelors</td>\n",
              "      <td>13</td>\n",
              "      <td>Married-civ-spouse</td>\n",
              "      <td>Exec-managerial</td>\n",
              "      <td>Husband</td>\n",
              "      <td>White</td>\n",
              "      <td>Male</td>\n",
              "      <td>0</td>\n",
              "      <td>0</td>\n",
              "      <td>13</td>\n",
              "      <td>United-States</td>\n",
              "      <td>&lt;=50K</td>\n",
              "    </tr>\n",
              "    <tr>\n",
              "      <th>2</th>\n",
              "      <td>38</td>\n",
              "      <td>Private</td>\n",
              "      <td>215646</td>\n",
              "      <td>HS-grad</td>\n",
              "      <td>9</td>\n",
              "      <td>Divorced</td>\n",
              "      <td>Handlers-cleaners</td>\n",
              "      <td>Not-in-family</td>\n",
              "      <td>White</td>\n",
              "      <td>Male</td>\n",
              "      <td>0</td>\n",
              "      <td>0</td>\n",
              "      <td>40</td>\n",
              "      <td>United-States</td>\n",
              "      <td>&lt;=50K</td>\n",
              "    </tr>\n",
              "    <tr>\n",
              "      <th>3</th>\n",
              "      <td>53</td>\n",
              "      <td>Private</td>\n",
              "      <td>234721</td>\n",
              "      <td>11th</td>\n",
              "      <td>7</td>\n",
              "      <td>Married-civ-spouse</td>\n",
              "      <td>Handlers-cleaners</td>\n",
              "      <td>Husband</td>\n",
              "      <td>Black</td>\n",
              "      <td>Male</td>\n",
              "      <td>0</td>\n",
              "      <td>0</td>\n",
              "      <td>40</td>\n",
              "      <td>United-States</td>\n",
              "      <td>&lt;=50K</td>\n",
              "    </tr>\n",
              "    <tr>\n",
              "      <th>4</th>\n",
              "      <td>28</td>\n",
              "      <td>Private</td>\n",
              "      <td>338409</td>\n",
              "      <td>Bachelors</td>\n",
              "      <td>13</td>\n",
              "      <td>Married-civ-spouse</td>\n",
              "      <td>Prof-specialty</td>\n",
              "      <td>Wife</td>\n",
              "      <td>Black</td>\n",
              "      <td>Female</td>\n",
              "      <td>0</td>\n",
              "      <td>0</td>\n",
              "      <td>40</td>\n",
              "      <td>Cuba</td>\n",
              "      <td>&lt;=50K</td>\n",
              "    </tr>\n",
              "  </tbody>\n",
              "</table>\n",
              "</div>"
            ],
            "text/plain": [
              "   age          workclass  fnlwgt  ... hours-per-week         country  salary\n",
              "0   39          State-gov   77516  ...             40   United-States   <=50K\n",
              "1   50   Self-emp-not-inc   83311  ...             13   United-States   <=50K\n",
              "2   38            Private  215646  ...             40   United-States   <=50K\n",
              "3   53            Private  234721  ...             40   United-States   <=50K\n",
              "4   28            Private  338409  ...             40            Cuba   <=50K\n",
              "\n",
              "[5 rows x 15 columns]"
            ]
          },
          "metadata": {},
          "execution_count": 3
        }
      ]
    },
    {
      "cell_type": "code",
      "metadata": {
        "colab": {
          "base_uri": "https://localhost:8080/"
        },
        "id": "5kH37fG4Vwts",
        "outputId": "e8d9fd27-ffcb-4b07-d198-f1ec4d566b08"
      },
      "source": [
        "for i in adult.columns:\n",
        "    print(i, \":\")\n",
        "    print()\n",
        "    print(adult[i].unique())\n",
        "    print()\n",
        "    print(adult[i].nunique())\n",
        "    print(\"----------------------------------------\")"
      ],
      "execution_count": 4,
      "outputs": [
        {
          "output_type": "stream",
          "name": "stdout",
          "text": [
            "age :\n",
            "\n",
            "[39 50 38 53 28 37 49 52 31 42 30 23 32 40 34 25 43 54 35 59 56 19 20 45\n",
            " 22 48 21 24 57 44 41 29 18 47 46 36 79 27 67 33 76 17 55 61 70 64 71 68\n",
            " 66 51 58 26 60 90 75 65 77 62 63 80 72 74 69 73 81 78 88 82 83 84 85 86\n",
            " 87]\n",
            "\n",
            "73\n",
            "----------------------------------------\n",
            "workclass :\n",
            "\n",
            "[' State-gov' ' Self-emp-not-inc' ' Private' ' Federal-gov' ' Local-gov'\n",
            " ' ?' ' Self-emp-inc' ' Without-pay' ' Never-worked']\n",
            "\n",
            "9\n",
            "----------------------------------------\n",
            "fnlwgt :\n",
            "\n",
            "[ 77516  83311 215646 ...  34066  84661 257302]\n",
            "\n",
            "21648\n",
            "----------------------------------------\n",
            "education :\n",
            "\n",
            "[' Bachelors' ' HS-grad' ' 11th' ' Masters' ' 9th' ' Some-college'\n",
            " ' Assoc-acdm' ' Assoc-voc' ' 7th-8th' ' Doctorate' ' Prof-school'\n",
            " ' 5th-6th' ' 10th' ' 1st-4th' ' Preschool' ' 12th']\n",
            "\n",
            "16\n",
            "----------------------------------------\n",
            "education-num :\n",
            "\n",
            "[13  9  7 14  5 10 12 11  4 16 15  3  6  2  1  8]\n",
            "\n",
            "16\n",
            "----------------------------------------\n",
            "marital-status :\n",
            "\n",
            "[' Never-married' ' Married-civ-spouse' ' Divorced'\n",
            " ' Married-spouse-absent' ' Separated' ' Married-AF-spouse' ' Widowed']\n",
            "\n",
            "7\n",
            "----------------------------------------\n",
            "occupation :\n",
            "\n",
            "[' Adm-clerical' ' Exec-managerial' ' Handlers-cleaners' ' Prof-specialty'\n",
            " ' Other-service' ' Sales' ' Craft-repair' ' Transport-moving'\n",
            " ' Farming-fishing' ' Machine-op-inspct' ' Tech-support' ' ?'\n",
            " ' Protective-serv' ' Armed-Forces' ' Priv-house-serv']\n",
            "\n",
            "15\n",
            "----------------------------------------\n",
            "relationship :\n",
            "\n",
            "[' Not-in-family' ' Husband' ' Wife' ' Own-child' ' Unmarried'\n",
            " ' Other-relative']\n",
            "\n",
            "6\n",
            "----------------------------------------\n",
            "race :\n",
            "\n",
            "[' White' ' Black' ' Asian-Pac-Islander' ' Amer-Indian-Eskimo' ' Other']\n",
            "\n",
            "5\n",
            "----------------------------------------\n",
            "sex :\n",
            "\n",
            "[' Male' ' Female']\n",
            "\n",
            "2\n",
            "----------------------------------------\n",
            "capital-gain :\n",
            "\n",
            "[ 2174     0 14084  5178  5013  2407 14344 15024  7688 34095  4064  4386\n",
            "  7298  1409  3674  1055  3464  2050  2176   594 20051  6849  4101  1111\n",
            "  8614  3411  2597 25236  4650  9386  2463  3103 10605  2964  3325  2580\n",
            "  3471  4865 99999  6514  1471  2329  2105  2885 25124 10520  2202  2961\n",
            " 27828  6767  2228  1506 13550  2635  5556  4787  3781  3137  3818  3942\n",
            "   914   401  2829  2977  4934  2062  2354  5455 15020  1424  3273 22040\n",
            "  4416  3908 10566   991  4931  1086  7430  6497   114  7896  2346  3418\n",
            "  3432  2907  1151  2414  2290 15831 41310  4508  2538  3456  6418  1848\n",
            "  3887  5721  9562  1455  2036  1831 11678  2936  2993  7443  6360  1797\n",
            "  1173  4687  6723  2009  6097  2653  1639 18481  7978  2387  5060]\n",
            "\n",
            "119\n",
            "----------------------------------------\n",
            "capital-loss :\n",
            "\n",
            "[   0 2042 1408 1902 1573 1887 1719 1762 1564 2179 1816 1980 1977 1876\n",
            " 1340 2206 1741 1485 2339 2415 1380 1721 2051 2377 1669 2352 1672  653\n",
            " 2392 1504 2001 1590 1651 1628 1848 1740 2002 1579 2258 1602  419 2547\n",
            " 2174 2205 1726 2444 1138 2238  625  213 1539  880 1668 1092 1594 3004\n",
            " 2231 1844  810 2824 2559 2057 1974  974 2149 1825 1735 1258 2129 2603\n",
            " 2282  323 4356 2246 1617 1648 2489 3770 1755 3683 2267 2080 2457  155\n",
            " 3900 2201 1944 2467 2163 2754 2472 1411]\n",
            "\n",
            "92\n",
            "----------------------------------------\n",
            "hours-per-week :\n",
            "\n",
            "[40 13 16 45 50 80 30 35 60 20 52 44 15 25 38 43 55 48 58 32 70  2 22 56\n",
            " 41 28 36 24 46 42 12 65  1 10 34 75 98 33 54  8  6 64 19 18 72  5  9 47\n",
            " 37 21 26 14  4 59  7 99 53 39 62 57 78 90 66 11 49 84  3 17 68 27 85 31\n",
            " 51 77 63 23 87 88 73 89 97 94 29 96 67 82 86 91 81 76 92 61 74 95]\n",
            "\n",
            "94\n",
            "----------------------------------------\n",
            "country :\n",
            "\n",
            "[' United-States' ' Cuba' ' Jamaica' ' India' ' ?' ' Mexico' ' South'\n",
            " ' Puerto-Rico' ' Honduras' ' England' ' Canada' ' Germany' ' Iran'\n",
            " ' Philippines' ' Italy' ' Poland' ' Columbia' ' Cambodia' ' Thailand'\n",
            " ' Ecuador' ' Laos' ' Taiwan' ' Haiti' ' Portugal' ' Dominican-Republic'\n",
            " ' El-Salvador' ' France' ' Guatemala' ' China' ' Japan' ' Yugoslavia'\n",
            " ' Peru' ' Outlying-US(Guam-USVI-etc)' ' Scotland' ' Trinadad&Tobago'\n",
            " ' Greece' ' Nicaragua' ' Vietnam' ' Hong' ' Ireland' ' Hungary'\n",
            " ' Holand-Netherlands']\n",
            "\n",
            "42\n",
            "----------------------------------------\n",
            "salary :\n",
            "\n",
            "[' <=50K' ' >50K']\n",
            "\n",
            "2\n",
            "----------------------------------------\n"
          ]
        }
      ]
    },
    {
      "cell_type": "markdown",
      "metadata": {
        "id": "CesO2UR08EXy"
      },
      "source": [
        "# ENCODING"
      ]
    },
    {
      "cell_type": "code",
      "metadata": {
        "id": "lg307MZ_-dfe"
      },
      "source": [
        "class encodeing:\n",
        "\n",
        "  def encodeing_variable(self):\n",
        "\n",
        "    # Filling question marks in country colum as Nan values\n",
        "    adult['country'].replace(\" ?\",np.nan,inplace=True)\n",
        "\n",
        "    # Droping (\"fnlwgt\",\"education\") columns which is not required \n",
        "    adult.drop([\"fnlwgt\",\"education\"],inplace = True,axis = 1)\n",
        "\n",
        "    # Using LabelEncoder(), converting <=50K as 0 and >50k as 1\n",
        "    from sklearn.preprocessing import LabelEncoder\n",
        "    labelbncoder=LabelEncoder()\n",
        "    adult['salary'] = labelbncoder.fit_transform(adult['salary'])\n",
        "\n",
        "    # Creating dictonary for workclass column and assigning it\n",
        "    wc_dic = adult[\"workclass\"].value_counts().to_dict()\n",
        "    adult[\"workclass\"] = adult[\"workclass\"].map(wc_dic)\n",
        "\n",
        "    # Creating dictonary for marital-status column and assigning it\n",
        "    adult[\"marital-status\"] = adult[\"marital-status\"].map(adult[\"marital-status\"].value_counts().to_dict())\n",
        "    \n",
        "    # assigning mean values to occupation\n",
        "    meanEncode = adult.groupby(['occupation'])['salary'].mean()*100\n",
        "    adult['occupation']=adult['occupation'].map(meanEncode)\n",
        "\n",
        "    # Creating dictonary for relationship column and assigning it\n",
        "    adult_relationship = ({' Husband' : 5,\n",
        "                           ' Not-in-family' : 0\n",
        "                           ,' Own-child' : 2,\n",
        "                           ' Unmarried' : 3,\n",
        "                           ' Wife' : 4,\n",
        "                           ' Other-relative' : 1})\n",
        "    adult[['relationship','salary']].groupby(['relationship']).mean()\n",
        "    adult['relationship'] = adult['relationship'].map(adult_relationship)\n",
        "\n",
        "    # Creating dictonary for race column and assigning it\n",
        "    adult_race = ({' White' : 4,\n",
        "                   ' Black' : 3 ,\n",
        "                   ' Asian-Pac-Islander' : 2,\n",
        "                   ' Amer-Indian-Eskimo' : 1,\n",
        "                   ' Other' : 0})\n",
        "    adult['race']=adult['race'].map(adult_race)\n",
        "\n",
        "    # Using LabelEncoder(), converting Female as 0 and Male as 1\n",
        "    adult['sex'] = labelbncoder.fit_transform(adult['sex'])\n",
        "\n",
        "    # Creating dictonary for country column and assigning it\n",
        "    c_dic = adult[\"country\"].value_counts().to_dict()\n",
        "    adult['country'] = adult['country'].map(c_dic)\n",
        "\n",
        "    # Expanding all columns\n",
        "    import pandas as pd\n",
        "    pd.set_option('display.expand_frame_repr', False)\n",
        "\n",
        "    # Print the first 5 Columns\n",
        "    print(adult.head(1))\n",
        "\n",
        "object_encodeing = encodeing()\n"
      ],
      "execution_count": 5,
      "outputs": []
    },
    {
      "cell_type": "code",
      "metadata": {
        "colab": {
          "base_uri": "https://localhost:8080/"
        },
        "id": "UKoy99OO7cYD",
        "outputId": "3041ac7a-c0b8-4463-ebf2-4a1478d0d08d"
      },
      "source": [
        "object_encodeing.encodeing_variable()"
      ],
      "execution_count": 6,
      "outputs": [
        {
          "output_type": "stream",
          "name": "stdout",
          "text": [
            "   age  workclass  education-num  marital-status  occupation  relationship  race  sex  capital-gain  capital-loss  hours-per-week  country  salary\n",
            "0   39       1298             13           10683   13.448276             0     4    1          2174             0              40  29170.0       0\n"
          ]
        }
      ]
    },
    {
      "cell_type": "code",
      "metadata": {
        "colab": {
          "base_uri": "https://localhost:8080/",
          "height": 203
        },
        "id": "tOQx6UCe_xFR",
        "outputId": "61fd0607-1e69-4f1e-e41f-5401094f3f4c"
      },
      "source": [
        "adult.head()"
      ],
      "execution_count": 7,
      "outputs": [
        {
          "output_type": "execute_result",
          "data": {
            "text/html": [
              "<div>\n",
              "<style scoped>\n",
              "    .dataframe tbody tr th:only-of-type {\n",
              "        vertical-align: middle;\n",
              "    }\n",
              "\n",
              "    .dataframe tbody tr th {\n",
              "        vertical-align: top;\n",
              "    }\n",
              "\n",
              "    .dataframe thead th {\n",
              "        text-align: right;\n",
              "    }\n",
              "</style>\n",
              "<table border=\"1\" class=\"dataframe\">\n",
              "  <thead>\n",
              "    <tr style=\"text-align: right;\">\n",
              "      <th></th>\n",
              "      <th>age</th>\n",
              "      <th>workclass</th>\n",
              "      <th>education-num</th>\n",
              "      <th>marital-status</th>\n",
              "      <th>occupation</th>\n",
              "      <th>relationship</th>\n",
              "      <th>race</th>\n",
              "      <th>sex</th>\n",
              "      <th>capital-gain</th>\n",
              "      <th>capital-loss</th>\n",
              "      <th>hours-per-week</th>\n",
              "      <th>country</th>\n",
              "      <th>salary</th>\n",
              "    </tr>\n",
              "  </thead>\n",
              "  <tbody>\n",
              "    <tr>\n",
              "      <th>0</th>\n",
              "      <td>39</td>\n",
              "      <td>1298</td>\n",
              "      <td>13</td>\n",
              "      <td>10683</td>\n",
              "      <td>13.448276</td>\n",
              "      <td>0</td>\n",
              "      <td>4</td>\n",
              "      <td>1</td>\n",
              "      <td>2174</td>\n",
              "      <td>0</td>\n",
              "      <td>40</td>\n",
              "      <td>29170.0</td>\n",
              "      <td>0</td>\n",
              "    </tr>\n",
              "    <tr>\n",
              "      <th>1</th>\n",
              "      <td>50</td>\n",
              "      <td>2541</td>\n",
              "      <td>13</td>\n",
              "      <td>14976</td>\n",
              "      <td>48.401377</td>\n",
              "      <td>5</td>\n",
              "      <td>4</td>\n",
              "      <td>1</td>\n",
              "      <td>0</td>\n",
              "      <td>0</td>\n",
              "      <td>13</td>\n",
              "      <td>29170.0</td>\n",
              "      <td>0</td>\n",
              "    </tr>\n",
              "    <tr>\n",
              "      <th>2</th>\n",
              "      <td>38</td>\n",
              "      <td>22696</td>\n",
              "      <td>9</td>\n",
              "      <td>4443</td>\n",
              "      <td>6.277372</td>\n",
              "      <td>0</td>\n",
              "      <td>4</td>\n",
              "      <td>1</td>\n",
              "      <td>0</td>\n",
              "      <td>0</td>\n",
              "      <td>40</td>\n",
              "      <td>29170.0</td>\n",
              "      <td>0</td>\n",
              "    </tr>\n",
              "    <tr>\n",
              "      <th>3</th>\n",
              "      <td>53</td>\n",
              "      <td>22696</td>\n",
              "      <td>7</td>\n",
              "      <td>14976</td>\n",
              "      <td>6.277372</td>\n",
              "      <td>5</td>\n",
              "      <td>3</td>\n",
              "      <td>1</td>\n",
              "      <td>0</td>\n",
              "      <td>0</td>\n",
              "      <td>40</td>\n",
              "      <td>29170.0</td>\n",
              "      <td>0</td>\n",
              "    </tr>\n",
              "    <tr>\n",
              "      <th>4</th>\n",
              "      <td>28</td>\n",
              "      <td>22696</td>\n",
              "      <td>13</td>\n",
              "      <td>14976</td>\n",
              "      <td>44.903382</td>\n",
              "      <td>4</td>\n",
              "      <td>3</td>\n",
              "      <td>0</td>\n",
              "      <td>0</td>\n",
              "      <td>0</td>\n",
              "      <td>40</td>\n",
              "      <td>95.0</td>\n",
              "      <td>0</td>\n",
              "    </tr>\n",
              "  </tbody>\n",
              "</table>\n",
              "</div>"
            ],
            "text/plain": [
              "   age  workclass  education-num  marital-status  occupation  relationship  race  sex  capital-gain  capital-loss  hours-per-week  country  salary\n",
              "0   39       1298             13           10683   13.448276             0     4    1          2174             0              40  29170.0       0\n",
              "1   50       2541             13           14976   48.401377             5     4    1             0             0              13  29170.0       0\n",
              "2   38      22696              9            4443    6.277372             0     4    1             0             0              40  29170.0       0\n",
              "3   53      22696              7           14976    6.277372             5     3    1             0             0              40  29170.0       0\n",
              "4   28      22696             13           14976   44.903382             4     3    0             0             0              40     95.0       0"
            ]
          },
          "metadata": {},
          "execution_count": 7
        }
      ]
    },
    {
      "cell_type": "markdown",
      "metadata": {
        "id": "C6AQt9yx761j"
      },
      "source": [
        "# VISUALIZATION\n"
      ]
    },
    {
      "cell_type": "code",
      "metadata": {
        "id": "BpDm7rbzViSJ"
      },
      "source": [
        "class visuals:\n",
        "\n",
        "  def distplot_capital_loss(self):\n",
        "    print(sns.distplot(adult['capital-loss']))\n",
        "    print(\"-------------------------------------------------\")\n",
        "\n",
        "  def distplot_capital_gain(self):\n",
        "    print(sns.distplot(adult['capital-gain']))\n",
        "    print(\"-------------------------------------------------\")\n",
        "\n",
        "  def hist_capital_gain(self):\n",
        "    print(plt.hist(adult['capital-gain']))\n",
        "    print(\"-------------------------------------------------\")\n",
        "    \n",
        "  def hist_capital_capital_loss(self):\n",
        "    print( plt.hist(adult['capital-loss']))\n",
        "    print(\"-------------------------------------------------\")\n",
        "\n",
        "  def countplot_salary(self):\n",
        "    print(sns.countplot('salary',data = adult))\n",
        "    print(\"-------------------------------------------------\")\n",
        "   \n",
        "  def barplot_capital_gain(self):\n",
        "    print(sns.barplot(y = 'capital-gain', x = 'salary',data = adult))\n",
        "    print(\"-------------------------------------------------\")\n",
        "  \n",
        "  def barplot_capital_loss(self):\n",
        "    print(sns.barplot(y = 'capital-loss', x = 'salary',data = adult))\n",
        "    print(\"-------------------------------------------------\")\n",
        "\n",
        "  def sns(self):\n",
        "    sns.pairplot(adult)\n",
        "\n",
        "  def corr(self):\n",
        "    corr = adult.corr()\n",
        "    top_corr_fearures = corr.index\n",
        "    plt.figure(figsize = (20,20))\n",
        "    s=sns.heatmap(adult[top_corr_fearures].corr(),annot=True,cmap = \"CMRmap_r\")\n",
        "\n",
        "obj_visuals=visuals()\n",
        "\n"
      ],
      "execution_count": 8,
      "outputs": []
    },
    {
      "cell_type": "code",
      "metadata": {
        "id": "uUx3WSqiViU6",
        "colab": {
          "base_uri": "https://localhost:8080/",
          "height": 366
        },
        "outputId": "061e964c-8a31-40f2-feeb-dd4636fb15db"
      },
      "source": [
        "obj_visuals.countplot_salary()"
      ],
      "execution_count": 9,
      "outputs": [
        {
          "output_type": "stream",
          "name": "stdout",
          "text": [
            "AxesSubplot(0.125,0.125;0.775x0.755)\n",
            "-------------------------------------------------\n"
          ]
        },
        {
          "output_type": "stream",
          "name": "stderr",
          "text": [
            "/usr/local/lib/python3.7/dist-packages/seaborn/_decorators.py:43: FutureWarning: Pass the following variable as a keyword arg: x. From version 0.12, the only valid positional argument will be `data`, and passing other arguments without an explicit keyword will result in an error or misinterpretation.\n",
            "  FutureWarning\n"
          ]
        },
        {
          "output_type": "display_data",
          "data": {
            "image/png": "[encoded data removed]",
            "text/plain": [
              "<Figure size 432x288 with 1 Axes>"
            ]
          },
          "metadata": {
            "needs_background": "light"
          }
        }
      ]
    },
    {
      "cell_type": "code",
      "metadata": {
        "colab": {
          "base_uri": "https://localhost:8080/",
          "height": 366
        },
        "id": "nmdbsjsvLddk",
        "outputId": "bf1a1012-3901-4a5a-a1a6-694ce6049e0b"
      },
      "source": [
        "obj_visuals.distplot_capital_gain()"
      ],
      "execution_count": 10,
      "outputs": [
        {
          "output_type": "stream",
          "name": "stderr",
          "text": [
            "/usr/local/lib/python3.7/dist-packages/seaborn/distributions.py:2619: FutureWarning: `distplot` is a deprecated function and will be removed in a future version. Please adapt your code to use either `displot` (a figure-level function with similar flexibility) or `histplot` (an axes-level function for histograms).\n",
            "  warnings.warn(msg, FutureWarning)\n"
          ]
        },
        {
          "output_type": "stream",
          "name": "stdout",
          "text": [
            "AxesSubplot(0.125,0.125;0.775x0.755)\n",
            "-------------------------------------------------\n"
          ]
        },
        {
          "output_type": "display_data",
          "data": {
            "image/png": "[encoded data removed]",
            "text/plain": [
              "<Figure size 432x288 with 1 Axes>"
            ]
          },
          "metadata": {
            "needs_background": "light"
          }
        }
      ]
    },
    {
      "cell_type": "code",
      "metadata": {
        "colab": {
          "base_uri": "https://localhost:8080/",
          "height": 332
        },
        "id": "7nEP0iDsLitj",
        "outputId": "7065563c-066b-4373-d3a7-096d95ed370c"
      },
      "source": [
        "obj_visuals.hist_capital_gain()"
      ],
      "execution_count": 11,
      "outputs": [
        {
          "output_type": "stream",
          "name": "stdout",
          "text": [
            "(array([3.1791e+04, 5.1700e+02, 8.7000e+01, 5.0000e+00, 2.0000e+00,\n",
            "       0.0000e+00, 0.0000e+00, 0.0000e+00, 0.0000e+00, 1.5900e+02]), array([    0. ,  9999.9, 19999.8, 29999.7, 39999.6, 49999.5, 59999.4,\n",
            "       69999.3, 79999.2, 89999.1, 99999. ]), <a list of 10 Patch objects>)\n",
            "-------------------------------------------------\n"
          ]
        },
        {
          "output_type": "display_data",
          "data": {
            "image/png": "[encoded data removed]",
            "text/plain": [
              "<Figure size 432x288 with 1 Axes>"
            ]
          },
          "metadata": {
            "needs_background": "light"
          }
        }
      ]
    },
    {
      "cell_type": "code",
      "metadata": {
        "colab": {
          "base_uri": "https://localhost:8080/",
          "height": 332
        },
        "id": "SNg4xBLnLlc0",
        "outputId": "2bdbf111-3fc8-4b1c-b2f0-18758d44c307"
      },
      "source": [
        "obj_visuals.hist_capital_capital_loss()"
      ],
      "execution_count": 12,
      "outputs": [
        {
          "output_type": "stream",
          "name": "stdout",
          "text": [
            "(array([3.1053e+04, 1.7000e+01, 2.1000e+01, 4.6100e+02, 7.7900e+02,\n",
            "       2.0700e+02, 1.4000e+01, 0.0000e+00, 6.0000e+00, 3.0000e+00]), array([   0. ,  435.6,  871.2, 1306.8, 1742.4, 2178. , 2613.6, 3049.2,\n",
            "       3484.8, 3920.4, 4356. ]), <a list of 10 Patch objects>)\n",
            "-------------------------------------------------\n"
          ]
        },
        {
          "output_type": "display_data",
          "data": {
            "image/png": "[encoded data removed]",
            "text/plain": [
              "<Figure size 432x288 with 1 Axes>"
            ]
          },
          "metadata": {
            "needs_background": "light"
          }
        }
      ]
    },
    {
      "cell_type": "code",
      "metadata": {
        "colab": {
          "base_uri": "https://localhost:8080/",
          "height": 366
        },
        "id": "Ks_YlwsaLlfp",
        "outputId": "2452f41f-1e99-4c60-8829-7663709eb051"
      },
      "source": [
        "obj_visuals.countplot_salary()"
      ],
      "execution_count": 13,
      "outputs": [
        {
          "output_type": "stream",
          "name": "stdout",
          "text": [
            "AxesSubplot(0.125,0.125;0.775x0.755)\n",
            "-------------------------------------------------\n"
          ]
        },
        {
          "output_type": "stream",
          "name": "stderr",
          "text": [
            "/usr/local/lib/python3.7/dist-packages/seaborn/_decorators.py:43: FutureWarning: Pass the following variable as a keyword arg: x. From version 0.12, the only valid positional argument will be `data`, and passing other arguments without an explicit keyword will result in an error or misinterpretation.\n",
            "  FutureWarning\n"
          ]
        },
        {
          "output_type": "display_data",
          "data": {
            "image/png": "[encoded data removed]",
            "text/plain": [
              "<Figure size 432x288 with 1 Axes>"
            ]
          },
          "metadata": {
            "needs_background": "light"
          }
        }
      ]
    },
    {
      "cell_type": "code",
      "metadata": {
        "colab": {
          "base_uri": "https://localhost:8080/",
          "height": 313
        },
        "id": "g89dpGkHLlih",
        "outputId": "4ee204f7-f25a-447f-a738-fa9135a7544d"
      },
      "source": [
        "obj_visuals.barplot_capital_gain()"
      ],
      "execution_count": 14,
      "outputs": [
        {
          "output_type": "stream",
          "name": "stdout",
          "text": [
            "AxesSubplot(0.125,0.125;0.775x0.755)\n",
            "-------------------------------------------------\n"
          ]
        },
        {
          "output_type": "display_data",
          "data": {
            "image/png": "[encoded data removed]",
            "text/plain": [
              "<Figure size 432x288 with 1 Axes>"
            ]
          },
          "metadata": {
            "needs_background": "light"
          }
        }
      ]
    },
    {
      "cell_type": "code",
      "metadata": {
        "colab": {
          "base_uri": "https://localhost:8080/",
          "height": 313
        },
        "id": "2pwF8xFALllT",
        "outputId": "317a84a7-bab8-4de9-bbac-0c2bddd943c7"
      },
      "source": [
        "obj_visuals.barplot_capital_loss()"
      ],
      "execution_count": 15,
      "outputs": [
        {
          "output_type": "stream",
          "name": "stdout",
          "text": [
            "AxesSubplot(0.125,0.125;0.775x0.755)\n",
            "-------------------------------------------------\n"
          ]
        },
        {
          "output_type": "display_data",
          "data": {
            "image/png": "[encoded data removed]",
            "text/plain": [
              "<Figure size 432x288 with 1 Axes>"
            ]
          },
          "metadata": {
            "needs_background": "light"
          }
        }
      ]
    },
    {
      "cell_type": "code",
      "metadata": {
        "id": "EOEoHvueViXv",
        "colab": {
          "base_uri": "https://localhost:8080/",
          "height": 1000
        },
        "outputId": "d29ebf85-da96-4abb-e78f-bb8bb1e7ab75"
      },
      "source": [
        "obj_visuals.corr()"
      ],
      "execution_count": 16,
      "outputs": [
        {
          "output_type": "display_data",
          "data": {
            "image/png": "[encoded data removed]",
            "text/plain": [
              "<Figure size 1440x1440 with 2 Axes>"
            ]
          },
          "metadata": {
            "needs_background": "light"
          }
        }
      ]
    },
    {
      "cell_type": "markdown",
      "metadata": {
        "id": "68DXUeK2-IFh"
      },
      "source": [
        "# MODEL"
      ]
    },
    {
      "cell_type": "code",
      "metadata": {
        "id": "LD8nbfZEBvgz"
      },
      "source": [
        "class model:      # Creating a class \n",
        "\n",
        "  def models(self):  \n",
        "    adult.replace([np.inf, -np.inf], np.nan, inplace=True) \n",
        "    adult.dropna(inplace=True)\n",
        "    X = adult.drop(['salary'],axis = 1)     \n",
        "    y = adult['salary']\n",
        "    X_train,X_test,y_train,y_test = train_test_split(X,y,test_size = .20,random_state = 42)     # Splitting the data into 80% for training and 20% for testing\n",
        "\n",
        "    print(\"LOGISTIC REGRESSION\\n\",'\\n')                                         # LOGISTIC REGRESSION model\n",
        "    lr = LogisticRegression(C=.7,solver = 'liblinear')\n",
        "    lr.fit(X_train,y_train)\n",
        "    y_lr = lr.predict(X_test) \n",
        "    print(\"The training score is: \", lr.score(X_train,y_train),\"\\n\")            # Printing Training_score\n",
        "    print(\"The accuracy is: {}\".format(accuracy_score(y_test,y_lr)),\"\\n\")       # Printing Accuracy_score \n",
        "    print(\"The confusion matrix: \")                                             # Printing Confusion_Matrix \n",
        "    cm_lr = confusion_matrix(y_test,y_lr)\n",
        "    print(cm_lr,\"\\n\")\n",
        "\n",
        "    TP = cm_lr[0][0]\n",
        "    FP= cm_lr[0][1]\n",
        "    FN = cm_lr[1][0]\n",
        "    TN = cm_lr[1][1]\n",
        "    def math_correlation(tp,fp,fn,tn):     \n",
        "      a = (tp*tn)-(fp*fn)\n",
        "      b = math.sqrt((tp+fp)*(tp+fn)*(tn+fp)*(tn+fn))\n",
        "      return a/b\n",
        "    result =  math_correlation(TP,FP,FN,TN)\n",
        "    print(\"The math correlation for LOGISTIC REGRESSION is {}\".format(result))  # Printing Math_correlation   \n",
        "\n",
        "    print(\"-------------------------------------------------------------\")\n",
        "\n",
        "    print(\"DECISION TREE\\n\",'\\n')                                               # DECISION TREE model\n",
        "    param_dist = {\"max_depth\" : [3, None],\n",
        "                  \"max_features\" : (1, 9),\n",
        "                  \"min_samples_leaf\" : (1, 9),\n",
        "                  \"criterion\": [\"gini\", \"entropy\"]}                             # Creating the hyperparameter grid \n",
        "    tree = DecisionTreeClassifier()\n",
        "    tree_cv = RandomizedSearchCV(tree, param_dist, cv = 5)                      # RandomizedSearchCV hyper parameter\n",
        "    tree_cv.fit(X_train,y_train)\n",
        "    print(\"The training score is: \", tree_cv.score(X_train,y_train),'\\n' )      # checking training score\n",
        "    best_decision_tree = tree_cv.best_estimator_\n",
        "    best_decision_tree\n",
        "    y_dt=best_decision_tree.predict(X_test)\n",
        "    print(\"Accuracy Score {}\".format(accuracy_score(y_test,y_dt)),'\\n')         # Printing Accuracy_score \n",
        "    print(\"The confusion matrix: \")                                             # Printing Confusion_Matrix \n",
        "    cm_dt = confusion_matrix(y_test,y_dt)\n",
        "    print(cm_dt,'\\n')\n",
        "\n",
        "    TP = cm_dt[0][0]\n",
        "    FP = cm_dt[0][1]\n",
        "    FN = cm_dt[1][0]\n",
        "    TN = cm_dt[1][1]\n",
        "    def math_correlation(tp,fp,fn,tn):\n",
        "      a = (tp*tn)-(fp*fn)\n",
        "      b = math.sqrt((tp+fp)*(tp+fn)*(tn+fp)*(tn+fn))\n",
        "      return a/b\n",
        "    result =  math_correlation(TP,FP,FN,TN)\n",
        "    print(\"The math corelation for DECISION TREE is {}\".format(result))         # Printing Math_Correlation \n",
        "    pickle.dump(best_decision_tree,open('best_decision_tree.pkl','wb'))         # Pickle file\n",
        "    \n",
        "    print(\"-------------------------------------------------------------\")\n",
        "\n",
        "    print(\"KNEAREST NEIGHBORS\\n\",'\\n')                                          # KNEAREST NEIGHBORS model\n",
        "    knn= KNeighborsClassifier()\n",
        "    knn.fit(X_train,y_train)\n",
        "    y_knn = knn.predict(X_test)\n",
        "    print(\"The training score is: \", knn.score(X_train,y_train),'\\n' )          # Checking training score\n",
        "    print(\"The accuracy is: {}\".format(accuracy_score(y_test,y_knn)),'\\n')      # Printing Accuracy_score \n",
        "    print(\"The confusion matrix: \")                                             # Printing Confusion_Matrix \n",
        "    knn_c = confusion_matrix(y_test,y_knn)\n",
        "    print(knn_c,'\\n')\n",
        "\n",
        "    TP = knn_c[0][0]\n",
        "    FP= knn_c[0][1]\n",
        "    FN = knn_c[1][0]\n",
        "    TN = knn_c[1][1]\n",
        "    def math_correlation(tp,fp,fn,tn):\n",
        "      a = (tp*tn)-(fp*fn)\n",
        "      b = math.sqrt((tp+fp)*(tp+fn)*(tn+fp)*(tn+fn))\n",
        "      return a/b\n",
        "    result =  math_correlation(TP,FP,FN,TN)\n",
        "    print(\"The math corelation for KNEAREST NEIGHBORS is {}\".format(result))    # Printing Math_Correlation  \n",
        "\n",
        "    print(\"-------------------------------------------------------------\")\n",
        "\n",
        "    print(\"NAIVE BAYES\\n\",'\\n')                                                 # NAIVE BAYES model     \n",
        "    nb= GaussianNB()\n",
        "    nb.fit(X_train,y_train)\n",
        "    y_nb = nb.predict(X_test)\n",
        "    print(\"The training score is: \", nb.score(X_train,y_train) ,'\\n')           # Checking training score \n",
        "    print(\"The accuracy is: {}\".format(accuracy_score(y_test,y_nb)),'\\n')       # Printing Accuracy_score \n",
        "    print(\"The confusion matrix: \")                                             # Printing Confusion_Matrix\n",
        "    nb_c = confusion_matrix(y_test,y_nb)\n",
        "    print(nb_c,'\\n')\n",
        "\n",
        "    TP = nb_c[0][0]\n",
        "    FP= nb_c[0][1]\n",
        "    FN = nb_c[1][0]\n",
        "    TN = nb_c[1][1]\n",
        "    def math_correlation(tp,fp,fn,tn):\n",
        "      a = (tp*tn)-(fp*fn)\n",
        "      b = math.sqrt((tp+fp)*(tp+fn)*(tn+fp)*(tn+fn))\n",
        "      return a/b\n",
        "    result =  math_correlation(TP,FP,FN,TN)\n",
        "    print(\"The math corelation for NAIVE BAYES is {}\".format(result))           # Printing Math_Correlation \n",
        "\n",
        "    print(\"-------------------------------------------------------------\")\n",
        "\n",
        "    \n",
        "    print(\"RANDOM FOREST\\n\",'\\n')                                               # RANDOM FOREST model\n",
        "    rf=RandomForestClassifier(max_depth =50, \n",
        "                              min_samples_split = 2,\n",
        "                              min_samples_leaf = 2, \n",
        "                              random_state=42 )\n",
        "    rf.fit(X_train,y_train)\n",
        "    y_rf = rf.predict(X_test)  \n",
        "    print(\"The training score is: \", rf.score(X_train,y_train),'\\n' )           # Checking training score\n",
        "    print(\"The accuracy is: {}\".format(accuracy_score(y_test,y_rf)),'\\n')       # Printing Accuracy_score \n",
        "    print(\"The confusion matrix: \")                                             # Printing Confusion_Matrix\n",
        "    rf_c = confusion_matrix(y_test,y_rf)\n",
        "    print(rf_c,'\\n')\n",
        "\n",
        "    TP = rf_c[0][0]\n",
        "    FP= rf_c[0][1]\n",
        "    FN = rf_c[1][0]\n",
        "    TN = rf_c[1][1]\n",
        "    def math_correlation(tp,fp,fn,tn):\n",
        "      a = (tp*tn)-(fp*fn)\n",
        "      b = math.sqrt((tp+fp)*(tp+fn)*(tn+fp)*(tn+fn))\n",
        "      return a/b\n",
        "    result =  math_correlation(TP,FP,FN,TN)\n",
        "    print(\"The math corelation for RANDOM FOREST is {}\".format(result))         # Printing Math_correlation\n",
        "\n",
        "    print(\"-------------------------------------------------------------\")\n",
        "\n",
        "    print(\"XGBOOST\\n\",'\\n')                                                     # XGBOOST model\n",
        "    xgb=XGBClassifier(eta=0.2, max_depth=10, max_leaf_nodes=2)\n",
        "    xgb.fit(X_train,y_train)\n",
        "    y_xgb = xgb.predict(X_test)  \n",
        "    print(\"The training score is: \", xgb.score(X_train,y_train),'\\n' )          # Checking Training_score\n",
        "    print(\"The accuracy is: {}\".format(accuracy_score(y_test,y_xgb)),'\\n')      # Printing Accuracy_score \n",
        "    print(\"The confusion matrix: \")                                             # Printing Confusion_Matrix\n",
        "    x_c = confusion_matrix(y_test,y_xgb)\n",
        "    print(x_c,'\\n')\n",
        "\n",
        "    TP = x_c[0][0]\n",
        "    FP = x_c[0][1]\n",
        "    FN = x_c[1][0]\n",
        "    TN = x_c[1][1]\n",
        "    def math_correlation(tp,fp,fn,tn):\n",
        "      a = (tp*tn)-(fp*fn)\n",
        "      b = math.sqrt((tp+fp)*(tp+fn)*(tn+fp)*(tn+fn))\n",
        "      return a/b\n",
        "    result =  math_correlation(TP,FP,FN,TN)\n",
        "    print(\"The math corelation for RANDOM FOREST is {}\".format(result))         # Printing Math_correlation\n",
        "    \n",
        "    print(\"-------------------------------------------------------------\")\n",
        "\n",
        "obj_model=model()                                                               # Creating an object for the class model\n"
      ],
      "execution_count": 17,
      "outputs": []
    },
    {
      "cell_type": "code",
      "metadata": {
        "colab": {
          "base_uri": "https://localhost:8080/"
        },
        "id": "kmnAgNu7C0JI",
        "outputId": "50485afc-5c25-4d61-c1c7-3eb87f727f5c"
      },
      "source": [
        "obj_model.models()                                                              # Calling the function "
      ],
      "execution_count": 18,
      "outputs": [
        {
          "output_type": "stream",
          "name": "stdout",
          "text": [
            "LOGISTIC REGRESSION\n",
            " \n",
            "\n",
            "The training score is:  0.808537252755844 \n",
            "\n",
            "The accuracy is: 0.8055034396497811 \n",
            "\n",
            "The confusion matrix: \n",
            "[[4555  301]\n",
            " [ 943  597]] \n",
            "\n",
            "The math correlation for LOGISTIC REGRESSION is 0.4008173125696439\n",
            "-------------------------------------------------------------\n",
            "DECISION TREE\n",
            " \n",
            "\n",
            "The training score is:  0.8857399734188101 \n",
            "\n",
            "Accuracy Score 0.849437148217636 \n",
            "\n",
            "The confusion matrix: \n",
            "[[4504  352]\n",
            " [ 611  929]] \n",
            "\n",
            "The math corelation for DECISION TREE is 0.5670218204656132\n",
            "-------------------------------------------------------------\n",
            "KNEAREST NEIGHBORS\n",
            " \n",
            "\n",
            "The training score is:  0.8910171214134939 \n",
            "\n",
            "The accuracy is: 0.8464665415884928 \n",
            "\n",
            "The confusion matrix: \n",
            "[[4461  395]\n",
            " [ 587  953]] \n",
            "\n",
            "The math corelation for KNEAREST NEIGHBORS is 0.5634615126366938\n",
            "-------------------------------------------------------------\n",
            "NAIVE BAYES\n",
            " \n",
            "\n",
            "The training score is:  0.8253850363536862 \n",
            "\n",
            "The accuracy is: 0.8192620387742339 \n",
            "\n",
            "The confusion matrix: \n",
            "[[4562  294]\n",
            " [ 862  678]] \n",
            "\n",
            "The math corelation for NAIVE BAYES is 0.45223661180477687\n",
            "-------------------------------------------------------------\n",
            "RANDOM FOREST\n",
            " \n",
            "\n",
            "The training score is:  0.9244390587131577 \n",
            "\n",
            "The accuracy is: 0.8617886178861789 \n",
            "\n",
            "The confusion matrix: \n",
            "[[4564  292]\n",
            " [ 592  948]] \n",
            "\n",
            "The math corelation for RANDOM FOREST is 0.6007301400154512\n",
            "-------------------------------------------------------------\n",
            "XGBOOST\n",
            " \n",
            "\n",
            "The training score is:  0.9014541474474239 \n",
            "\n",
            "The accuracy is: 0.8692933083176986 \n",
            "\n",
            "The confusion matrix: \n",
            "[[4579  277]\n",
            " [ 559  981]] \n",
            "\n",
            "The math corelation for RANDOM FOREST is 0.6238324665187542\n",
            "-------------------------------------------------------------\n"
          ]
        }
      ]
    },
    {
      "cell_type": "code",
      "metadata": {
        "id": "u0nWjQ-a-fRl"
      },
      "source": [
        "  "
      ],
      "execution_count": 18,
      "outputs": []
    }
  ]
}